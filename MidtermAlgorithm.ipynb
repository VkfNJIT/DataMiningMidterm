{
 "cells": [
  {
   "cell_type": "code",
   "execution_count": 1,
   "id": "a4e45b39-36d1-4b07-9a0c-5634d01d2b6c",
   "metadata": {
    "scrolled": true
   },
   "outputs": [],
   "source": [
    "import os\n",
    "import sys\n",
    "import random\n",
    "from itertools import permutations, combinations # important for getting all the possible k itemsets\n",
    "import numpy as np\n",
    "import pandas as pd\n",
    "from mlxtend.frequent_patterns import apriori\n",
    "# List of all the datasets that are needed"
   ]
  },
  {
   "cell_type": "code",
   "execution_count": 2,
   "id": "efc026f2-1af0-46b9-8db7-66d72567eb86",
   "metadata": {},
   "outputs": [],
   "source": [
    "def item_k_support_possibilities(item_names, k):\n",
    "    '''\n",
    "    Generate all combinations of itemsets\n",
    "    '''\n",
    "    item_k_arrange = combinations(item_names, k)\n",
    "    possibilities_of_k_items = [item for item in item_k_arrange]\n",
    "    return possibilities_of_k_items\n",
    "\n",
    "def item_k_confidence_possibilities(item_names, k):\n",
    "    '''\n",
    "    Generate all permutations of itemsets \n",
    "    '''\n",
    "    item_k_arrange = permutations(item_names, k)\n",
    "    possibilities_of_k_items = [item for item in item_k_arrange]\n",
    "    return possibilities_of_k_items\n",
    "\n",
    "def count_itemsets_for_k(current_itemset, transactions, k):\n",
    "    item_k_filter = [name for name in current_itemset.keys()]\n",
    "    item_k_frequent_names = item_k_support_possibilities(item_k_filter, k)\n",
    "    itemset_k = {}\n",
    "    for item in item_k_frequent_names:\n",
    "        count_occ = sum(1 for transact in transactions if set(item).issubset(transact))\n",
    "        itemset_k[item] = float(count_occ) / len(transactions)\n",
    "    return itemset_k\n",
    "    \n",
    "def get_itemsets_with_confidence(total_itemset_frequent, min_confidence):\n",
    "    itemset_confidence = {}\n",
    "    itemset_copy = total_itemset_frequent.copy()\n",
    "\n",
    "    for key, val in total_itemset_frequent.items():\n",
    "        if isinstance(key, tuple):\n",
    "            key_elems = item_k_confidence_possibilities(list(key), len(key))\n",
    "\n",
    "            for key_elem in key_elems[:-1]:\n",
    "                if len(key_elem) == 2:\n",
    "                    numerator = key_elem[0]\n",
    "                    if numerator in itemset_copy:\n",
    "                        confidence_val = val / itemset_copy[numerator]\n",
    "                        itemset_confidence[key_elem] = confidence_val\n",
    "                else:\n",
    "                    d = []\n",
    "                    for i in range(len(key_elem) - 1):\n",
    "                        numerator = key_elem[i]\n",
    "                        if numerator in itemset_copy:\n",
    "                            confidence_val = val / itemset_copy[numerator]\n",
    "                            d.append(confidence_val)\n",
    "                            next_key = key_elem[:i + 1]\n",
    "                            if next_key not in itemset_copy:\n",
    "                                itemset_copy[next_key] = val\n",
    "                            next_confidence = val / itemset_copy[next_key]\n",
    "                            d.append(next_confidence)\n",
    "\n",
    "                    itemset_confidence[key_elem] = d\n",
    "\n",
    "    return itemset_confidence\n",
    "\n",
    "def collect_frequent_itemset(unfilter_dict_k, min_support):\n",
    "    # unnecessary_data = {}\n",
    "    filtered_dict = {}\n",
    "    for key, val in unfilter_dict_k.items():\n",
    "        if val >= min_support:\n",
    "            filtered_dict[key] = val\n",
    "    return filtered_dict\n",
    "    \n"
   ]
  },
  {
   "cell_type": "code",
   "execution_count": 3,
   "id": "10a62544-5cf7-4b50-b539-a33c6b6a16b4",
   "metadata": {},
   "outputs": [
    {
     "name": "stdin",
     "output_type": "stream",
     "text": [
      "Enter the store number for the dataset that you want:\n",
      "1. Amazon\n",
      "2. Best Buy\n",
      "3. K-mart\n",
      "4. Nike\n",
      "5. Ace Hardware\n",
      " 1\n"
     ]
    },
    {
     "name": "stdout",
     "output_type": "stream",
     "text": [
      "You have selected the amazon dataset\n"
     ]
    },
    {
     "name": "stdin",
     "output_type": "stream",
     "text": [
      "Please enter the minimum support percent that you want (1 to 100):\n",
      " 0\n",
      "Please enter the minimum confidence percent that you want (1 to 100):\n",
      " 100\n"
     ]
    },
    {
     "ename": "KeyboardInterrupt",
     "evalue": "",
     "output_type": "error",
     "traceback": [
      "\u001b[0;31m---------------------------------------------------------------------------\u001b[0m",
      "\u001b[0;31mKeyboardInterrupt\u001b[0m                         Traceback (most recent call last)",
      "Cell \u001b[0;32mIn[3], line 40\u001b[0m\n\u001b[1;32m     38\u001b[0m updated_itemset \u001b[38;5;241m=\u001b[39m itemset_frequent_k1\n\u001b[1;32m     39\u001b[0m \u001b[38;5;28;01mwhile\u001b[39;00m \u001b[38;5;28mlen\u001b[39m(itemset_frequent_k) \u001b[38;5;241m>\u001b[39m\u001b[38;5;241m=\u001b[39m k_val:\n\u001b[0;32m---> 40\u001b[0m     itemset_k \u001b[38;5;241m=\u001b[39m \u001b[43mcount_itemsets_for_k\u001b[49m\u001b[43m(\u001b[49m\u001b[43mitemset_frequent_k1\u001b[49m\u001b[43m,\u001b[49m\u001b[43m \u001b[49m\u001b[43mitem_k\u001b[49m\u001b[43m,\u001b[49m\u001b[43m \u001b[49m\u001b[43mk_val\u001b[49m\u001b[43m)\u001b[49m\n\u001b[1;32m     41\u001b[0m     \u001b[38;5;66;03m# print()\u001b[39;00m\n\u001b[1;32m     42\u001b[0m     itemset_frequent_k \u001b[38;5;241m=\u001b[39m collect_frequent_itemset(itemset_k, min_support)\n",
      "Cell \u001b[0;32mIn[2], line 19\u001b[0m, in \u001b[0;36mcount_itemsets_for_k\u001b[0;34m(current_itemset, transactions, k)\u001b[0m\n\u001b[1;32m     17\u001b[0m \u001b[38;5;28;01mdef\u001b[39;00m \u001b[38;5;21mcount_itemsets_for_k\u001b[39m(current_itemset, transactions, k):\n\u001b[1;32m     18\u001b[0m     item_k_filter \u001b[38;5;241m=\u001b[39m [name \u001b[38;5;28;01mfor\u001b[39;00m name \u001b[38;5;129;01min\u001b[39;00m current_itemset\u001b[38;5;241m.\u001b[39mkeys()]\n\u001b[0;32m---> 19\u001b[0m     item_k_frequent_names \u001b[38;5;241m=\u001b[39m \u001b[43mitem_k_support_possibilities\u001b[49m\u001b[43m(\u001b[49m\u001b[43mitem_k_filter\u001b[49m\u001b[43m,\u001b[49m\u001b[43m \u001b[49m\u001b[43mk\u001b[49m\u001b[43m)\u001b[49m\n\u001b[1;32m     20\u001b[0m     itemset_k \u001b[38;5;241m=\u001b[39m {}\n\u001b[1;32m     21\u001b[0m     \u001b[38;5;28;01mfor\u001b[39;00m item \u001b[38;5;129;01min\u001b[39;00m item_k_frequent_names:\n",
      "Cell \u001b[0;32mIn[2], line 6\u001b[0m, in \u001b[0;36mitem_k_support_possibilities\u001b[0;34m(item_names, k)\u001b[0m\n\u001b[1;32m      2\u001b[0m \u001b[38;5;250m\u001b[39m\u001b[38;5;124;03m'''\u001b[39;00m\n\u001b[1;32m      3\u001b[0m \u001b[38;5;124;03mGenerate all combinations of itemsets\u001b[39;00m\n\u001b[1;32m      4\u001b[0m \u001b[38;5;124;03m'''\u001b[39;00m\n\u001b[1;32m      5\u001b[0m item_k_arrange \u001b[38;5;241m=\u001b[39m combinations(item_names, k)\n\u001b[0;32m----> 6\u001b[0m possibilities_of_k_items \u001b[38;5;241m=\u001b[39m [item \u001b[38;5;28;01mfor\u001b[39;00m item \u001b[38;5;129;01min\u001b[39;00m item_k_arrange]\n\u001b[1;32m      7\u001b[0m \u001b[38;5;28;01mreturn\u001b[39;00m possibilities_of_k_items\n",
      "\u001b[0;31mKeyboardInterrupt\u001b[0m: "
     ]
    }
   ],
   "source": [
    "# Loads a dictionary of datasets that you can select by number\n",
    "selected_stores = {1: \"amazon\", 2: \"best_buy\", 3: \"k-mart\", 4: \"nike\", 5: \"ace_hardware\"}\n",
    "selected_id = int(input(\"Enter the store number for the dataset that you want:\\n1. Amazon\\n2. Best Buy\\n3. K-mart\\n4. Nike\\n5. Ace Hardware\\n\"))\n",
    "if selected_id not in selected_stores.keys():\n",
    "    print(\"invalid number, There are only 5 choices!Try again next time\")\n",
    "    sys.exit()\n",
    "item_names = pd.read_csv(f\"{os.getcwd()}/{selected_stores[selected_id]}_items.csv\")\n",
    "transactions = pd.read_csv(f\"{os.getcwd()}/{selected_stores[selected_id]}_transactions.csv\")\n",
    "print(f\"You have selected the {selected_stores[selected_id]} dataset\")\n",
    "# Enter the minimum support and the minimum confidence \n",
    "min_support = float(input(\"Please enter the minimum support percent that you want (1 to 100):\\n\"))\n",
    "min_support /= 100\n",
    "min_confidence = float(input(\"Please enter the minimum confidence percent that you want (1 to 100):\\n\"))\n",
    "min_confidence /= 100\n",
    "\n",
    "itemset_k1 = item_names.set_index(\"Item Name\").to_dict()[\"Item #\"]\n",
    "\n",
    "# Split the string by comma to seperate each string in a row\n",
    "item_k1_names = [name for name in item_names[\"Item Name\"]]\n",
    "itemset_k = {}\n",
    "\n",
    "item_k1_count = transactions['Transaction'].str.split(\", \").explode().value_counts()\n",
    "\n",
    "item_k1 = item_k1_count.to_dict()\n",
    "item_k = transactions['Transaction'].str.split(\", \").to_list()\n",
    "\n",
    "# Get the support value for each itemset-1\n",
    "for k, _ in itemset_k1.items():\n",
    "    if k not in item_k1:\n",
    "        itemset_k1[k] = float(0)\n",
    "    else: \n",
    "        itemset_k1[k] = float(item_k1[k]) / len(transactions[\"Transaction\"])\n",
    "\n",
    "itemset_frequent_k1 = collect_frequent_itemset(itemset_k1, min_support)\n",
    "itemset_confidence_k = {}\n",
    "itemset_frequent_k = itemset_frequent_k1\n",
    "k_val = 2\n",
    "updated_itemset = itemset_frequent_k1\n",
    "while len(itemset_frequent_k) >= k_val:\n",
    "    itemset_k = count_itemsets_for_k(itemset_frequent_k1, item_k, k_val)\n",
    "    # print()\n",
    "    itemset_frequent_k = collect_frequent_itemset(itemset_k, min_support)\n",
    "    updated_itemset.update(itemset_frequent_k)\n",
    "    # print(itemset_confidence_k)\n",
    "    k_val += 1\n",
    "print(updated_itemset)\n",
    "item_conf = get_itemsets_with_confidence(updated_itemset, min_support)\n",
    "print()\n",
    "print(item_conf)\n",
    "\n",
    "# print(updated_itemset)\n",
    "# for item in itemset_frequent_k:\n",
    "    \n",
    "#     itemset_confidence_k = get_itemsets_with_confidence(itemset_frequent_k1, k_val, min_support)\n",
    "\n",
    "# item_k1_filter = [name for name in itemset_frequent_k1.keys()]\n",
    "# item_k2_frequent_names = item_k_possibilities(item_k1_filter, 2)"
   ]
  },
  {
   "cell_type": "code",
   "execution_count": null,
   "id": "310fe5d2-b373-471a-a165-cef49fd4fbf1",
   "metadata": {},
   "outputs": [],
   "source": []
  }
 ],
 "metadata": {
  "kernelspec": {
   "display_name": "Python 3 (ipykernel)",
   "language": "python",
   "name": "python3"
  },
  "language_info": {
   "codemirror_mode": {
    "name": "ipython",
    "version": 3
   },
   "file_extension": ".py",
   "mimetype": "text/x-python",
   "name": "python",
   "nbconvert_exporter": "python",
   "pygments_lexer": "ipython3",
   "version": "3.12.6"
  }
 },
 "nbformat": 4,
 "nbformat_minor": 5
}
