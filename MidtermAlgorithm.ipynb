{
 "cells": [
  {
   "cell_type": "code",
   "execution_count": 4,
   "id": "0d4704bf-71a8-4e4d-9ce2-f9306d77f6c3",
   "metadata": {},
   "outputs": [
    {
     "data": {
      "text/plain": [
       "['amazon_transactions.csv',\n",
       " '.ipynb_checkpoints',\n",
       " 'MidtermAlgorithm.ipynb',\n",
       " 'best_buy_items.csv',\n",
       " 'amazon_items.csv',\n",
       " 'best_buy_transactions.csv',\n",
       " 'k-mart_items.csv',\n",
       " 'k-mart_transactions.csv',\n",
       " 'nike_items.csv',\n",
       " '.git',\n",
       " 'nike_transactions.csv',\n",
       " 'ace_hardware_items.csv',\n",
       " 'ace_hardware_transactions.csv']"
      ]
     },
     "execution_count": 4,
     "metadata": {},
     "output_type": "execute_result"
    }
   ],
   "source": [
    "import os\n",
    "import sys\n",
    "import numpy as np\n",
    "import pandas as pd\n",
    "# List of all the datasets that are needed\n",
    "os.listdir(os.getcwd())"
   ]
  },
  {
   "cell_type": "code",
   "execution_count": 11,
   "id": "f1892535-c3f9-49ad-84b4-4d2c2828b4bd",
   "metadata": {},
   "outputs": [
    {
     "name": "stdin",
     "output_type": "stream",
     "text": [
      "Enter the store number for the dataset that you want:\n",
      "1. Amazon\n",
      "2. Best Buy\n",
      "3. K-mart\n",
      "4. Nike\n",
      "5. Ace Hardware\n",
      " 3\n"
     ]
    },
    {
     "data": {
      "text/plain": [
       "0                   Quilts\n",
       "1               Bedspreads\n",
       "2       Decorative Pillows\n",
       "3               Bed Skirts\n",
       "4                   Sheets\n",
       "5                    Shams\n",
       "6      Bedding Collections\n",
       "7             Kids Bedding\n",
       "8    Embroidered Bedspread\n",
       "9                   Towels\n",
       "Name: Item Name, dtype: object"
      ]
     },
     "execution_count": 11,
     "metadata": {},
     "output_type": "execute_result"
    }
   ],
   "source": [
    "selected_stores = {1: \"amazon\", 2: \"best_buy\", 3: \"k-mart\", 4: \"nike\", 5: \"ace_hardware\"}\n",
    "selected_id = int(input(\"Enter the store number for the dataset that you want:\\n1. Amazon\\n2. Best Buy\\n3. K-mart\\n4. Nike\\n5. Ace Hardware\\n\"))\n",
    "if selected_id not in selected_stores.keys():\n",
    "    print(\"invalid number, There are only 5 choices!Try again next time\")\n",
    "    sys.exit()\n",
    "item_names = pd.read_csv(f\"{os.getcwd()}/{selected_stores[selected_id]}_items.csv\")\n",
    "transactions = pd.read_csv(f\"{os.getcwd()}/{selected_stores[selected_id]}_transactions.csv\")\n",
    "item_names[\"Item Name\"]\n",
    "\n"
   ]
  },
  {
   "cell_type": "code",
   "execution_count": null,
   "id": "843e39a9-2b43-46b1-a37a-26c2406752ee",
   "metadata": {},
   "outputs": [],
   "source": []
  }
 ],
 "metadata": {
  "kernelspec": {
   "display_name": "Python 3 (ipykernel)",
   "language": "python",
   "name": "python3"
  },
  "language_info": {
   "codemirror_mode": {
    "name": "ipython",
    "version": 3
   },
   "file_extension": ".py",
   "mimetype": "text/x-python",
   "name": "python",
   "nbconvert_exporter": "python",
   "pygments_lexer": "ipython3",
   "version": "3.12.6"
  }
 },
 "nbformat": 4,
 "nbformat_minor": 5
}
