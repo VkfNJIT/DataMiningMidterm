{
 "cells": [
  {
   "cell_type": "code",
   "execution_count": 6,
   "id": "a4e45b39-36d1-4b07-9a0c-5634d01d2b6c",
   "metadata": {
    "scrolled": true
   },
   "outputs": [
    {
     "data": {
      "text/plain": [
       "['amazon_transactions.csv',\n",
       " '.ipynb_checkpoints',\n",
       " 'MidtermAlgorithm.ipynb',\n",
       " 'best_buy_items.csv',\n",
       " 'amazon_items.csv',\n",
       " 'best_buy_transactions.csv',\n",
       " 'k-mart_items.csv',\n",
       " 'k-mart_transactions.csv',\n",
       " 'nike_items.csv',\n",
       " '.git',\n",
       " 'nike_transactions.csv',\n",
       " 'ace_hardware_items.csv',\n",
       " 'ace_hardware_transactions.csv']"
      ]
     },
     "execution_count": 6,
     "metadata": {},
     "output_type": "execute_result"
    }
   ],
   "source": [
    "import os\n",
    "import sys\n",
    "\n",
    "from itertools import permutations, combinations # important for getting all the possible k itemsets\n",
    "import numpy as np\n",
    "import pandas as pd\n",
    "# List of all the datasets that are needed\n",
    "os.listdir(os.getcwd())"
   ]
  },
  {
   "cell_type": "code",
   "execution_count": 7,
   "id": "efc026f2-1af0-46b9-8db7-66d72567eb86",
   "metadata": {},
   "outputs": [],
   "source": [
    "def item_k_support_possibilities(item_names, k):\n",
    "    '''\n",
    "    Generate all possible itemsets wit\n",
    "    '''\n",
    "    item_k_arrange = combinations(item_names, k)\n",
    "    possibilities_of_k_items = [item for item in item_k_arrange]\n",
    "    return possibilities_of_k_items\n",
    "\n",
    "# def filter_out_nonfrequent_k(nonfrequent_dict, item_klist):\n",
    "#     for k, _ in nonfrequent_dict.items():\n",
    "#         for item in item_klist:\n",
    "#             if set(item).issuperset(set(k)):\n",
    "#                 item_klist.remove(item)\n",
    "\n",
    "def count_itemsets_for_k(current_itemset, transactions, k):\n",
    "    item_k_filter = [name for name in current_itemset.keys()]\n",
    "    item_k_frequent_names = item_k_support_possibilities(item_k_filter, k)\n",
    "    \n",
    "    for item in item_k_frequent_names:\n",
    "        count_occ = 0\n",
    "        for transact in transactions:\n",
    "            if set(item).issubset(set(transact)):\n",
    "                count_occ += 1\n",
    "        itemset_k[item] = float(count_occ) / len(transactions)\n",
    "    return itemset_k\n",
    "    \n",
    "def collect_frequent_itemset(unfilter_dict_k, min_support):\n",
    "    # unnecessary_data = {}\n",
    "    filtered_dict = {}\n",
    "    for key, val in unfilter_dict_k.items():\n",
    "        if val >= min_support:\n",
    "            filtered_dict[key] = val\n",
    "    return filtered_dict\n",
    "    \n"
   ]
  },
  {
   "cell_type": "code",
   "execution_count": 8,
   "id": "f1892535-c3f9-49ad-84b4-4d2c2828b4bd",
   "metadata": {},
   "outputs": [
    {
     "name": "stdin",
     "output_type": "stream",
     "text": [
      "Enter the store number for the dataset that you want:\n",
      "1. Amazon\n",
      "2. Best Buy\n",
      "3. K-mart\n",
      "4. Nike\n",
      "5. Ace Hardware\n",
      " 1\n"
     ]
    },
    {
     "name": "stdout",
     "output_type": "stream",
     "text": [
      "You have selected the amazon dataset\n"
     ]
    },
    {
     "name": "stdin",
     "output_type": "stream",
     "text": [
      "Please enter the minimum support percent that you want (1 to 100):\n",
      " 50\n",
      "Please enter the minimum confidence percent that you want (1 to 100):\n",
      " 100\n"
     ]
    },
    {
     "name": "stdout",
     "output_type": "stream",
     "text": [
      "{'A Beginner’s Guide': 0.55, 'Java: The Complete Reference': 0.5, 'Java For Dummies': 0.65, 'Android Programming: The Big Nerd Ranch': 0.65}\n",
      "\n",
      "{('Java: The Complete Reference', 'Java For Dummies'): 0.5}\n"
     ]
    }
   ],
   "source": [
    "# Loads a dictionary of datasets that you can select by number\n",
    "selected_stores = {1: \"amazon\", 2: \"best_buy\", 3: \"k-mart\", 4: \"nike\", 5: \"ace_hardware\"}\n",
    "selected_id = int(input(\"Enter the store number for the dataset that you want:\\n1. Amazon\\n2. Best Buy\\n3. K-mart\\n4. Nike\\n5. Ace Hardware\\n\"))\n",
    "if selected_id not in selected_stores.keys():\n",
    "    print(\"invalid number, There are only 5 choices!Try again next time\")\n",
    "    sys.exit()\n",
    "item_names = pd.read_csv(f\"{os.getcwd()}/{selected_stores[selected_id]}_items.csv\")\n",
    "transactions = pd.read_csv(f\"{os.getcwd()}/{selected_stores[selected_id]}_transactions.csv\")\n",
    "print(f\"You have selected the {selected_stores[selected_id]} dataset\")\n",
    "# Enter the minimum support and the minimum confidence \n",
    "min_support = float(input(\"Please enter the minimum support percent that you want (1 to 100):\\n\"))\n",
    "min_support /= 100\n",
    "min_confidence = float(input(\"Please enter the minimum confidence percent that you want (1 to 100):\\n\"))\n",
    "min_confidence /= 100\n",
    "k_val = 1\n",
    "\n",
    "itemset_k1 = item_names.set_index(\"Item Name\").to_dict()[\"Item #\"]\n",
    "\n",
    "# Split the string by comma to seperate each string in a row\n",
    "item_k1_names = [name for name in item_names[\"Item Name\"]]\n",
    "itemset_k = {}\n",
    "\n",
    "item_k1_count = transactions['Transaction'].str.split(\", \").explode().value_counts()\n",
    "\n",
    "item_k1 = item_k1_count.to_dict()\n",
    "item_k = transactions['Transaction'].str.split(\", \").to_list()\n",
    "# item_k3 = transactions['Transaction'].str.split(\", \").to_list()\n",
    "\n",
    "\n",
    "# Get the support value for each itemset-1\n",
    "for k, _ in itemset_k1.items():\n",
    "    if k not in item_k1:\n",
    "        itemset_k1[k] = float(0)\n",
    "    else: \n",
    "        itemset_k1[k] = float(item_k1[k]) / len(transactions[\"Transaction\"])\n",
    "        \n",
    "# print(itemset_k1)\n",
    "\n",
    "itemset_frequent_k1 = collect_frequent_itemset(itemset_k1, min_support)\n",
    "print(itemset_frequent_k1)\n",
    "\n",
    "k_val = 2\n",
    "print()\n",
    "itemset_k = count_itemsets_for_k(itemset_frequent_k1, item_k, k_val)\n",
    "itemset_frequent_k = collect_frequent_itemset(itemset_k, min_support)\n",
    "print(itemset_frequent_k)\n",
    "\n",
    "\n",
    "# item_k1_filter = [name for name in itemset_frequent_k1.keys()]\n",
    "# item_k2_frequent_names = item_k_possibilities(item_k1_filter, 2)\n",
    "\n",
    "# # Get the frequency support for k=2 itemsets \n",
    "# for item in item_k2_frequent_names:\n",
    "#     count_occ = 0\n",
    "#     for transact in item_k2:\n",
    "#         if set(item).issubset(set(transact)):\n",
    "#             count_occ += 1\n",
    "#     itemset_k2[item] = float(count_occ) / len(transactions[\"Transaction\"])\n",
    "\n",
    "# # print(itemset_k2)\n",
    "# itemset_frequent_k2 = collect_frequent_itemset(itemset_k2, min_support)\n",
    "# print(itemset_frequent_k2)\n",
    "# print()\n",
    "\n",
    "# item_k3_filter = [name for name in itemset_frequent_k1.keys()]\n",
    "# item_k3_frequent_names = item_k_possibilities(item_k3_filter, 3)\n",
    "\n",
    "# # Get the frequency support for k = 3\n",
    "# for item in item_k3_frequent_names:\n",
    "#     count_occ = 0\n",
    "#     for transact in item_k3:\n",
    "#         # print(transact)\n",
    "#         # print()\n",
    "#         if set(item).issubset(set(transact)):\n",
    "#             count_occ += 1\n",
    "#     itemset_k3[item] = float(count_occ) / len(transactions[\"Transaction\"])\n",
    "\n",
    "# # print(itemset_k3)\n",
    "# itemset_frequent_k3 = collect_frequent_itemset(itemset_k3, min_support)\n",
    "# print(itemset_frequent_k3)\n",
    "# print()\n",
    "# from mlxtend.frequent_patterns import apriori\n",
    "# freq, rules = apriori(transactions)\n"
   ]
  },
  {
   "cell_type": "markdown",
   "id": "0b9e84f3-c45a-44b3-8d45-bc7fbbba7575",
   "metadata": {},
   "source": []
  }
 ],
 "metadata": {
  "kernelspec": {
   "display_name": "Python 3 (ipykernel)",
   "language": "python",
   "name": "python3"
  },
  "language_info": {
   "codemirror_mode": {
    "name": "ipython",
    "version": 3
   },
   "file_extension": ".py",
   "mimetype": "text/x-python",
   "name": "python",
   "nbconvert_exporter": "python",
   "pygments_lexer": "ipython3",
   "version": "3.12.6"
  }
 },
 "nbformat": 4,
 "nbformat_minor": 5
}
