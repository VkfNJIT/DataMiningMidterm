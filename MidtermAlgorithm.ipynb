{
 "cells": [
  {
   "cell_type": "code",
   "execution_count": 1,
   "id": "0d4704bf-71a8-4e4d-9ce2-f9306d77f6c3",
   "metadata": {},
   "outputs": [
    {
     "data": {
      "text/plain": [
       "['amazon_transactions.csv',\n",
       " '.ipynb_checkpoints',\n",
       " 'MidtermAlgorithm.ipynb',\n",
       " 'best_buy_items.csv',\n",
       " 'amazon_items.csv',\n",
       " 'best_buy_transactions.csv',\n",
       " 'k-mart_items.csv',\n",
       " 'k-mart_transactions.csv',\n",
       " 'nike_items.csv',\n",
       " '.git',\n",
       " 'nike_transactions.csv',\n",
       " 'ace_hardware_items.csv',\n",
       " 'ace_hardware_transactions.csv']"
      ]
     },
     "execution_count": 1,
     "metadata": {},
     "output_type": "execute_result"
    }
   ],
   "source": [
    "import os\n",
    "import sys\n",
    "import itertools #important for going through the item sets and all combinations\n",
    "import numpy as np\n",
    "import pandas as pd\n",
    "# List of all the datasets that are needed\n",
    "os.listdir(os.getcwd())"
   ]
  },
  {
   "cell_type": "code",
   "execution_count": 13,
   "id": "f1892535-c3f9-49ad-84b4-4d2c2828b4bd",
   "metadata": {},
   "outputs": [
    {
     "name": "stdout",
     "output_type": "stream",
     "text": [
      "The history saving thread hit an unexpected error (OperationalError('attempt to write a readonly database')).History will not be written to the database.\n"
     ]
    },
    {
     "name": "stdin",
     "output_type": "stream",
     "text": [
      "Enter the store number for the dataset that you want:\n",
      "1. Amazon\n",
      "2. Best Buy\n",
      "3. K-mart\n",
      "4. Nike\n",
      "5. Ace Hardware\n",
      " 1\n"
     ]
    },
    {
     "name": "stdout",
     "output_type": "stream",
     "text": [
      "{'A Beginner’s Guide': 1, 'Java: The Complete Reference': 2, 'Java For Dummies': 3, 'Android Programming: The Big Nerd Ranch': 4, 'Head First Java 2nd Edition': 5, 'Beginning Programming with Java': 6, 'Java 8 Pocket Guide': 7, 'C++ Programming in Easy Steps': 8, 'Effective Java (2nd Edition)': 9, 'HTML and CSS: Design and Build Websites': 10}\n",
      "2\n",
      "Transaction\n",
      "Java For Dummies                           13\n",
      "Android Programming: The Big Nerd Ranch    13\n",
      "A Beginner’s Guide                         11\n",
      "Java: The Complete Reference               10\n",
      "Head First Java 2nd Edition                 8\n",
      "Beginning Programming with Java             6\n",
      "Java 8 Pocket Guide                         4\n",
      "HTML and CSS: Design and Build Websites     2\n",
      "C++ Programming in Easy Steps               1\n",
      "Name: count, dtype: int64\n",
      "{'A Beginner’s Guide': 0.55, 'Java: The Complete Reference': 0.5, 'Java For Dummies': 0.65, 'Android Programming: The Big Nerd Ranch': 0.65, 'Head First Java 2nd Edition': 0.4, 'Beginning Programming with Java': 0.3, 'Java 8 Pocket Guide': 0.2, 'C++ Programming in Easy Steps': 0.05, 'Effective Java (2nd Edition)': 0, 'HTML and CSS: Design and Build Websites': 0.1}\n"
     ]
    }
   ],
   "source": [
    "# Loads a dictionary of datasets that you can select by number\n",
    "selected_stores = {1: \"amazon\", 2: \"best_buy\", 3: \"k-mart\", 4: \"nike\", 5: \"ace_hardware\"}\n",
    "selected_id = int(input(\"Enter the store number for the dataset that you want:\\n1. Amazon\\n2. Best Buy\\n3. K-mart\\n4. Nike\\n5. Ace Hardware\\n\"))\n",
    "if selected_id not in selected_stores.keys():\n",
    "    print(\"invalid number, There are only 5 choices!Try again next time\")\n",
    "    sys.exit()\n",
    "item_names = pd.read_csv(f\"{os.getcwd()}/{selected_stores[selected_id]}_items.csv\")\n",
    "transactions = pd.read_csv(f\"{os.getcwd()}/{selected_stores[selected_id]}_transactions.csv\")\n",
    "itemset_k1 = item_names.set_index(\"Item Name\").to_dict()[\"Item #\"]\n",
    "\n",
    "# Split the string by comma to seperate each string in a row\n",
    "item_k1_count = transactions['Transaction'].str.split(\", \").explode().value_counts()\n",
    "item_k1 = item_k1_count.to_dict()\n",
    "# Get the support value for each itemset\n",
    "for k, _ in itemset_k1.items():\n",
    "    if k not in item_k1:\n",
    "        itemset_k1[k] = 0\n",
    "    else:\n",
    "        itemset_k1[k] = float(item_k1[k]) / len(transactions[\"Transaction\"])\n",
    "        \n",
    "print(item_k1_count)\n",
    "print(itemset_k1)\n"
   ]
  },
  {
   "cell_type": "code",
   "execution_count": null,
   "id": "efc026f2-1af0-46b9-8db7-66d72567eb86",
   "metadata": {},
   "outputs": [],
   "source": []
  }
 ],
 "metadata": {
  "kernelspec": {
   "display_name": "Python 3 (ipykernel)",
   "language": "python",
   "name": "python3"
  },
  "language_info": {
   "codemirror_mode": {
    "name": "ipython",
    "version": 3
   },
   "file_extension": ".py",
   "mimetype": "text/x-python",
   "name": "python",
   "nbconvert_exporter": "python",
   "pygments_lexer": "ipython3",
   "version": "3.12.6"
  }
 },
 "nbformat": 4,
 "nbformat_minor": 5
}
