{
 "cells": [
  {
   "cell_type": "code",
   "execution_count": 1,
   "id": "0d4704bf-71a8-4e4d-9ce2-f9306d77f6c3",
   "metadata": {},
   "outputs": [
    {
     "data": {
      "text/plain": [
       "['amazon_transactions.csv',\n",
       " '.ipynb_checkpoints',\n",
       " 'MidtermAlgorithm.ipynb',\n",
       " 'best_buy_items.csv',\n",
       " 'amazon_items.csv',\n",
       " 'best_buy_transactions.csv',\n",
       " 'k-mart_items.csv',\n",
       " 'k-mart_transactions.csv',\n",
       " 'nike_items.csv',\n",
       " '.git',\n",
       " 'nike_transactions.csv']"
      ]
     },
     "execution_count": 1,
     "metadata": {},
     "output_type": "execute_result"
    }
   ],
   "source": [
    "import os\n",
    "import numpy as np\n",
    "import pandas as pd\n",
    "# List of all the datasets that are needed\n",
    "os.listdir(os.getcwd())"
   ]
  },
  {
   "cell_type": "code",
   "execution_count": null,
   "id": "f1892535-c3f9-49ad-84b4-4d2c2828b4bd",
   "metadata": {},
   "outputs": [],
   "source": []
  }
 ],
 "metadata": {
  "kernelspec": {
   "display_name": "Python 3 (ipykernel)",
   "language": "python",
   "name": "python3"
  },
  "language_info": {
   "codemirror_mode": {
    "name": "ipython",
    "version": 3
   },
   "file_extension": ".py",
   "mimetype": "text/x-python",
   "name": "python",
   "nbconvert_exporter": "python",
   "pygments_lexer": "ipython3",
   "version": "3.12.6"
  }
 },
 "nbformat": 4,
 "nbformat_minor": 5
}
